{
 "cells": [
  {
   "cell_type": "code",
   "execution_count": 472,
   "metadata": {},
   "outputs": [],
   "source": [
    "import pygame as pg\n",
    "import numpy as np\n",
    "import random\n",
    "\n",
    "#Colors\n",
    "white = (255,255,255)\n",
    "black = (0,0,0)\n",
    "\n",
    "L = 40\n",
    "\n",
    "#Open the screen\n",
    "screen = pg.display.set_mode((400,650))\n",
    "screen.fill(white)\n",
    "\n",
    "L = 30\n",
    "id = 0\n",
    "\n",
    "#officeid[j] = (#id_office, floor, (x,y) barycenter, [color coord])\n",
    "officeid = []\n",
    "\n",
    "\n",
    "for floor in range (0,3):\n",
    "    for k in range(0,3):\n",
    "        for j in range(1, 5):\n",
    "            for i in range (0, 2):\n",
    "\n",
    "                color1 = random.randint(0,255)\n",
    "                color2 = random.randint(0,255)\n",
    "                color3 = random.randint(0,255)\n",
    "\n",
    "                rect_im = pg.draw.rect(screen, pygame.Color(color1, color2, color3), (i*1.25*L + 2*L + k*2.875*L, j*L + L + floor*7*L, L, L), 0)\n",
    "                rect = pygame.Rect(i*1.25*L + 2*L + k*2.875*L, j*L + L + floor*7*L, L, L)\n",
    "                center = rect.center\n",
    "                temp = np.array([id, int(floor) , center, np.array([color1, color2, color3])])\n",
    "                np.array(officeid.append(temp))\n",
    "                id = id + 1                \n",
    "                \n",
    "                \n",
    "    for i in range(0,8):\n",
    "        \n",
    "        color1 = random.randint(0,255)\n",
    "        color2 = random.randint(0,255)\n",
    "        color3 = random.randint(0,255)\n",
    "\n",
    "        \n",
    "        pg.draw.rect(screen, pygame.Color(color1, color2, color3), (i*L + 2*L, 0.7*L + 7*floor*L, L, L), 0)\n",
    "        rect = pygame.Rect(i*L + 2*L, 0.7*L + 7*floor*L, L, L)\n",
    "        center = rect.center\n",
    "        temp = np.array([id, int(floor) , center, np.array([color1, color2, color3])])\n",
    "        np.array(officeid.append(temp))\n",
    "        id = id + 1     \n",
    "\n",
    "\n",
    "    pg.draw.lines(screen, black, False, [(2*L, 0.7*L + 7*floor*L), (9.98*L, 0.7*L + 7*floor*L)], 2)\n",
    "    pg.draw.lines(screen, black, False, [(2*L, 5.98*L + 7*floor*L), (4.23*L, 5.98*L + 7*floor*L)], 2)\n",
    "    pg.draw.lines(screen, black, False, [(7.1*L, 6*L + 7*floor*L), (7.1*L, 2*L + 7*floor*L)], 2)\n",
    "    pg.draw.lines(screen, black, False, [(4.8*L, 6*L + 7*floor*L), (7.1*L, 6*L + 7*floor*L)], 2)\n",
    "    pg.draw.lines(screen, black, False, [(4.23*L, 2*L + 7*floor*L), (4.8*L, 2*L + 7*floor*L)], 2)\n",
    "    pg.draw.lines(screen, black, False, [(7.1*L, 2*L + 7*floor*L), (7.7*L, 2*L + 7*floor*L)], 2)\n",
    "    pg.draw.lines(screen, black, False, [(4.23*L, 6*L + 7*floor*L), (4.23*L, 2*L + 7*floor*L)], 2)\n",
    "    pg.draw.lines(screen, black, False, [(4.82*L, 6*L + 7*floor*L), (4.82*L, 2*L + 7*floor*L)], 2)\n",
    "    pg.draw.lines(screen, black, False, [(7.7*L, 6*L + 7*floor*L), (7.7*L, 2*L + 7*floor*L)], 2)\n",
    "    pg.draw.lines(screen, black, False, [(2*L, 0.73*L + 7*floor*L), (2*L, 6*L + 7*floor*L)], 2)\n",
    "    pg.draw.lines(screen, black, False, [(9.98*L, 0.73*L + 7*floor*L), (9.98*L, 6*L + 7*floor*L)], 2)\n",
    "    pg.draw.lines(screen, black, False, [(7.7*L, 6*L + 7*floor*L), (10*L, 6*L + 7*floor*L)], 2)\n",
    "\n",
    "\n",
    "#image.fill(color, rect)\n",
    "\n",
    "pygame.display.update()"
   ]
  },
  {
   "cell_type": "code",
   "execution_count": 353,
   "metadata": {},
   "outputs": [
    {
     "name": "stdout",
     "output_type": "stream",
     "text": [
      "[20 0 (165, 90) array([169, 172,   9])]\n"
     ]
    }
   ],
   "source": [
    "print(np.array(officeid)[20])"
   ]
  },
  {
   "cell_type": "code",
   "execution_count": null,
   "metadata": {},
   "outputs": [],
   "source": []
  }
 ],
 "metadata": {
  "kernelspec": {
   "display_name": "Python 3",
   "language": "python",
   "name": "python3"
  },
  "language_info": {
   "codemirror_mode": {
    "name": "ipython",
    "version": 3
   },
   "file_extension": ".py",
   "mimetype": "text/x-python",
   "name": "python",
   "nbconvert_exporter": "python",
   "pygments_lexer": "ipython3",
   "version": "3.6.7"
  }
 },
 "nbformat": 4,
 "nbformat_minor": 2
}
